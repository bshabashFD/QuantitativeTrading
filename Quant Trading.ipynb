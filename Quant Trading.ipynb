{
 "cells": [
  {
   "cell_type": "code",
   "execution_count": 1,
   "metadata": {},
   "outputs": [],
   "source": [
    "import numpy as np\n",
    "import pandas as pd\n",
    "\n",
    "import matplotlib.pyplot as plt\n",
    "%matplotlib inline"
   ]
  },
  {
   "cell_type": "code",
   "execution_count": 2,
   "metadata": {},
   "outputs": [],
   "source": [
    "GLD = pd.read_csv('GLD.csv')\n",
    "GLDM = pd.read_csv('GLDM.csv')"
   ]
  },
  {
   "cell_type": "code",
   "execution_count": 3,
   "metadata": {},
   "outputs": [
    {
     "name": "stdout",
     "output_type": "stream",
     "text": [
      "(1258, 7) (393, 7)\n"
     ]
    }
   ],
   "source": [
    "print(GLD.shape, GLDM.shape)"
   ]
  },
  {
   "cell_type": "code",
   "execution_count": 4,
   "metadata": {},
   "outputs": [],
   "source": [
    "GLD['Returns'] = GLD['Close'].pct_change()*100.0\n",
    "GLDM['Returns'] = GLDM['Close'].pct_change()*100.0"
   ]
  },
  {
   "cell_type": "code",
   "execution_count": 5,
   "metadata": {},
   "outputs": [
    {
     "name": "stdout",
     "output_type": "stream",
     "text": [
      "(300, 8) (300, 8)\n"
     ]
    }
   ],
   "source": [
    "GLD_last_year = GLD.iloc[-300:]\n",
    "GLDM_last_year = GLDM.iloc[-300:]\n",
    "\n",
    "print(GLD_last_year.shape, GLDM_last_year.shape)"
   ]
  },
  {
   "cell_type": "code",
   "execution_count": 6,
   "metadata": {},
   "outputs": [
    {
     "data": {
      "text/plain": [
       "<matplotlib.collections.PathCollection at 0x20d586525c0>"
      ]
     },
     "execution_count": 6,
     "metadata": {},
     "output_type": "execute_result"
    },
    {
     "data": {
      "image/png": "[encoded data removed]",
      "text/plain": [
       "<Figure size 432x288 with 1 Axes>"
      ]
     },
     "metadata": {
      "needs_background": "light"
     },
     "output_type": "display_data"
    }
   ],
   "source": [
    "plt.scatter(GLD_last_year['Returns'], GLDM_last_year['Returns'])"
   ]
  },
  {
   "cell_type": "code",
   "execution_count": 7,
   "metadata": {},
   "outputs": [
    {
     "data": {
      "text/plain": [
       "<matplotlib.collections.PathCollection at 0x20d5870b2b0>"
      ]
     },
     "execution_count": 7,
     "metadata": {},
     "output_type": "execute_result"
    },
    {
     "data": {
      "image/png": "[encoded data removed]",
      "text/plain": [
       "<Figure size 432x288 with 1 Axes>"
      ]
     },
     "metadata": {
      "needs_background": "light"
     },
     "output_type": "display_data"
    }
   ],
   "source": [
    "plt.scatter(GLD_last_year['Close'], GLDM_last_year['Close'])"
   ]
  },
  {
   "cell_type": "code",
   "execution_count": 24,
   "metadata": {},
   "outputs": [
    {
     "name": "stdout",
     "output_type": "stream",
     "text": [
      "0.1066401962475688 -0.11025045767892294\n"
     ]
    }
   ],
   "source": [
    "from sklearn.linear_model import LinearRegression\n",
    "from sklearn.model_selection import train_test_split\n",
    "\n",
    "test_size = 0.1\n",
    "\n",
    "\n",
    "X_frame = GLD_last_year\n",
    "y_frame = GLDM_last_year\n",
    "\n",
    "\n",
    "X = X_frame['Close'].values.reshape(-1,1)\n",
    "y = y_frame['Close']\n",
    "X_returns = X_frame['Returns']\n",
    "y_returns = y_frame['Returns']\n",
    "\n",
    "\n",
    "test_index = int(test_size * X.shape[0])\n",
    "X_train = X[:-test_index]\n",
    "X_test = X[-test_index:]\n",
    "\n",
    "y_train = y[:-test_index]\n",
    "y_test = y[-test_index:]\n",
    "\n",
    "X_returns_test = X_returns.values[-test_index:]\n",
    "y_returns_test = y_returns.values[-test_index:]\n",
    "\n",
    "my_lr = LinearRegression()\n",
    "my_lr.fit(X_train, y_train)\n",
    "\n",
    "print(my_lr.coef_[0], my_lr.intercept_)"
   ]
  },
  {
   "cell_type": "code",
   "execution_count": 25,
   "metadata": {},
   "outputs": [],
   "source": [
    "beta_1 = my_lr.coef_[0]\n",
    "beta_0 = my_lr.intercept_\n",
    "\n",
    "spread_test = X_test.reshape(-1,) * beta_1 + beta_0 - y_test\n",
    "spread_train = X_train.reshape(-1,) * beta_1 + beta_0 - y_train"
   ]
  },
  {
   "cell_type": "code",
   "execution_count": 26,
   "metadata": {},
   "outputs": [
    {
     "data": {
      "image/png": "[encoded data removed]",
      "text/plain": [
       "<Figure size 432x288 with 1 Axes>"
      ]
     },
     "metadata": {
      "needs_background": "light"
     },
     "output_type": "display_data"
    }
   ],
   "source": [
    "plt.figure()\n",
    "plt.hist(spread_train)\n",
    "plt.show()"
   ]
  },
  {
   "cell_type": "code",
   "execution_count": 31,
   "metadata": {},
   "outputs": [],
   "source": [
    "import math\n",
    "std_values = []\n",
    "sharpes = []\n",
    "\n",
    "\n",
    "\n",
    "for i in range(0, 300):\n",
    "    std_value = i/100\n",
    "\n",
    "    X_final_returns = []\n",
    "    Y_final_returns = []\n",
    "\n",
    "    spread_mean = np.mean(spread_train)\n",
    "    spread_std = np.std(spread_train)\n",
    "\n",
    "    #print(spread_mean, spread_std)\n",
    "    #std_value = 1.3\n",
    "    fee = 1.0\n",
    "\n",
    "    position = 0\n",
    "    buy_sell_number = 0\n",
    "    #print(X_test.shape[0])\n",
    "    for i in range(X_test.shape[0]):\n",
    "\n",
    "\n",
    "        if (position == 0):\n",
    "            X_final_returns.append(0.0)\n",
    "            Y_final_returns.append(0.0)\n",
    "        elif (position == 1):\n",
    "            X_final_returns.append(X_returns_test[i])\n",
    "            Y_final_returns.append(-y_returns_test[i])\n",
    "        else:\n",
    "            X_final_returns.append(-X_returns_test[i])\n",
    "            Y_final_returns.append(y_returns_test[i])\n",
    "\n",
    "\n",
    "        current_spread = X_test.reshape(-1,)[i] * beta_1 + beta_0 - y_test.iloc[i]\n",
    "\n",
    "\n",
    "\n",
    "        if (current_spread < (spread_mean - (std_value*spread_std))):\n",
    "            if (position != 1):\n",
    "                position = 1\n",
    "                buy_sell_number += 2\n",
    "        elif (current_spread > (spread_mean + (std_value*spread_std))):\n",
    "            if (position != -1):\n",
    "                position = -1\n",
    "                buy_sell_number += 2\n",
    "        else:\n",
    "            if (position != 0):\n",
    "                position = 0\n",
    "                buy_sell_number += 2\n",
    "\n",
    "    final_returns = np.mean(X_final_returns)*math.sqrt(252)/np.std(X_final_returns)\n",
    "    final_returns += np.mean(Y_final_returns)*math.sqrt(252)/np.std(Y_final_returns)\n",
    "    std_values.append(std_value)\n",
    "    sharpes.append(final_returns)"
   ]
  },
  {
   "cell_type": "code",
   "execution_count": 32,
   "metadata": {},
   "outputs": [
    {
     "data": {
      "text/plain": [
       "[<matplotlib.lines.Line2D at 0x20d5b63d048>]"
      ]
     },
     "execution_count": 32,
     "metadata": {},
     "output_type": "execute_result"
    },
    {
     "data": {
      "image/png": "[encoded data removed]",
      "text/plain": [
       "<Figure size 432x288 with 1 Axes>"
      ]
     },
     "metadata": {
      "needs_background": "light"
     },
     "output_type": "display_data"
    }
   ],
   "source": [
    "plt.plot(std_values, sharpes)"
   ]
  },
  {
   "cell_type": "code",
   "execution_count": null,
   "metadata": {},
   "outputs": [],
   "source": []
  }
 ],
 "metadata": {
  "kernelspec": {
   "display_name": "Python 3",
   "language": "python",
   "name": "python3"
  },
  "language_info": {
   "codemirror_mode": {
    "name": "ipython",
    "version": 3
   },
   "file_extension": ".py",
   "mimetype": "text/x-python",
   "name": "python",
   "nbconvert_exporter": "python",
   "pygments_lexer": "ipython3",
   "version": "3.7.3"
  }
 },
 "nbformat": 4,
 "nbformat_minor": 2
}
